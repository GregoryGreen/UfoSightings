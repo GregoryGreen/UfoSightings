{
 "cells": [
  {
   "cell_type": "code",
   "execution_count": 49,
   "metadata": {},
   "outputs": [],
   "source": [
    "import pandas as pd\n",
    "import numpy as np\n",
    "import matplotlib.pyplot as plt\n",
    "import seaborn as sns\n",
    "from datetime import datetime\n",
    "from shapely.geometry import Point\n",
    "import geopandas as gpd\n",
    "from geopandas import GeoDataFrame"
   ]
  },
  {
   "cell_type": "code",
   "execution_count": 50,
   "metadata": {},
   "outputs": [
    {
     "name": "stderr",
     "output_type": "stream",
     "text": [
      "/var/folders/0q/x1bkfxj91nqfpxyr8y88v65r0000gn/T/ipykernel_19765/3035658052.py:1: DtypeWarning: Columns (5) have mixed types. Specify dtype option on import or set low_memory=False.\n",
      "  ufo = pd.read_csv('/Users/gregorygreen/scrubbed 2.csv')\n"
     ]
    }
   ],
   "source": [
    "ufo = pd.read_csv('/Users/gregorygreen/scrubbed 2.csv')"
   ]
  },
  {
   "cell_type": "code",
   "execution_count": 51,
   "metadata": {},
   "outputs": [
    {
     "data": {
      "text/plain": [
       "array(['datetime', 'city', 'state', 'country', 'shape',\n",
       "       'duration (seconds)', 'duration (minutes)', 'comments',\n",
       "       'date posted', 'latitude', 'longitude '], dtype=object)"
      ]
     },
     "execution_count": 51,
     "metadata": {},
     "output_type": "execute_result"
    }
   ],
   "source": [
    "ufo.columns.values"
   ]
  },
  {
   "cell_type": "code",
   "execution_count": 52,
   "metadata": {},
   "outputs": [],
   "source": [
    "ufo['longitude'] = ufo['longitude '].astype(float)"
   ]
  },
  {
   "cell_type": "code",
   "execution_count": 53,
   "metadata": {},
   "outputs": [],
   "source": [
    "# Add a `sighting` column to make some other calculations easy\n",
    "ufo['sighting'] = 1"
   ]
  },
  {
   "cell_type": "code",
   "execution_count": 54,
   "metadata": {},
   "outputs": [],
   "source": [
    "ufo.drop(['longitude ', 'date posted'], axis=1, inplace=True)"
   ]
  },
  {
   "cell_type": "code",
   "execution_count": 55,
   "metadata": {},
   "outputs": [],
   "source": [
    "ufo = ufo.reindex(columns=['datetime','city', 'state', 'country', 'shape','duration (seconds)','duration (minutes)','comments', 'longitude', 'latitude', 'sighting'])"
   ]
  },
  {
   "cell_type": "code",
   "execution_count": 56,
   "metadata": {},
   "outputs": [
    {
     "data": {
      "text/plain": [
       "array(['datetime', 'city', 'state', 'country', 'shape',\n",
       "       'duration (seconds)', 'duration (minutes)', 'comments',\n",
       "       'longitude', 'latitude', 'sighting'], dtype=object)"
      ]
     },
     "execution_count": 56,
     "metadata": {},
     "output_type": "execute_result"
    }
   ],
   "source": [
    "ufo.columns.values"
   ]
  },
  {
   "cell_type": "code",
   "execution_count": 57,
   "metadata": {},
   "outputs": [
    {
     "data": {
      "text/html": [
       "<div>\n",
       "<style scoped>\n",
       "    .dataframe tbody tr th:only-of-type {\n",
       "        vertical-align: middle;\n",
       "    }\n",
       "\n",
       "    .dataframe tbody tr th {\n",
       "        vertical-align: top;\n",
       "    }\n",
       "\n",
       "    .dataframe thead th {\n",
       "        text-align: right;\n",
       "    }\n",
       "</style>\n",
       "<table border=\"1\" class=\"dataframe\">\n",
       "  <thead>\n",
       "    <tr style=\"text-align: right;\">\n",
       "      <th></th>\n",
       "      <th>datetime</th>\n",
       "      <th>city</th>\n",
       "      <th>state</th>\n",
       "      <th>country</th>\n",
       "      <th>shape</th>\n",
       "      <th>duration (seconds)</th>\n",
       "      <th>duration (minutes)</th>\n",
       "      <th>comments</th>\n",
       "      <th>longitude</th>\n",
       "      <th>latitude</th>\n",
       "      <th>sighting</th>\n",
       "    </tr>\n",
       "  </thead>\n",
       "  <tbody>\n",
       "    <tr>\n",
       "      <th>0</th>\n",
       "      <td>10/23/08 4:45</td>\n",
       "      <td>remote</td>\n",
       "      <td>wy</td>\n",
       "      <td>NaN</td>\n",
       "      <td>flash</td>\n",
       "      <td>0.001</td>\n",
       "      <td>0.001sec</td>\n",
       "      <td>brilliant strobe light at 4am&amp;#44 moving light...</td>\n",
       "      <td>169.875050</td>\n",
       "      <td>-46.163992</td>\n",
       "      <td>1</td>\n",
       "    </tr>\n",
       "    <tr>\n",
       "      <th>1</th>\n",
       "      <td>12/9/99 18:15</td>\n",
       "      <td>lyle</td>\n",
       "      <td>wa</td>\n",
       "      <td>us</td>\n",
       "      <td>fireball</td>\n",
       "      <td>0.01</td>\n",
       "      <td>millisecond</td>\n",
       "      <td>Incredible...full moon sized bright orange fir...</td>\n",
       "      <td>-121.285000</td>\n",
       "      <td>45.696111</td>\n",
       "      <td>1</td>\n",
       "    </tr>\n",
       "    <tr>\n",
       "      <th>2</th>\n",
       "      <td>5/15/87 23:00</td>\n",
       "      <td>island lake</td>\n",
       "      <td>il</td>\n",
       "      <td>us</td>\n",
       "      <td>light</td>\n",
       "      <td>0.01</td>\n",
       "      <td>milliseconds</td>\n",
       "      <td>4 red laser like lines</td>\n",
       "      <td>-88.191944</td>\n",
       "      <td>42.276111</td>\n",
       "      <td>1</td>\n",
       "    </tr>\n",
       "    <tr>\n",
       "      <th>3</th>\n",
       "      <td>6/30/02 3:15</td>\n",
       "      <td>helsinki (finland)</td>\n",
       "      <td>NaN</td>\n",
       "      <td>NaN</td>\n",
       "      <td>unknown</td>\n",
       "      <td>0.01</td>\n",
       "      <td>0.01sec</td>\n",
       "      <td>Overpassing UFO</td>\n",
       "      <td>24.941025</td>\n",
       "      <td>60.173324</td>\n",
       "      <td>1</td>\n",
       "    </tr>\n",
       "    <tr>\n",
       "      <th>4</th>\n",
       "      <td>7/15/74 22:00</td>\n",
       "      <td>bridgeview</td>\n",
       "      <td>il</td>\n",
       "      <td>us</td>\n",
       "      <td>triangle</td>\n",
       "      <td>0.01</td>\n",
       "      <td>milliseconds</td>\n",
       "      <td>Triangular streak SW to NE horizon to horizon ...</td>\n",
       "      <td>-87.804167</td>\n",
       "      <td>41.750000</td>\n",
       "      <td>1</td>\n",
       "    </tr>\n",
       "  </tbody>\n",
       "</table>\n",
       "</div>"
      ],
      "text/plain": [
       "        datetime                city state country     shape  \\\n",
       "0  10/23/08 4:45              remote    wy     NaN     flash   \n",
       "1  12/9/99 18:15                lyle    wa      us  fireball   \n",
       "2  5/15/87 23:00         island lake    il      us     light   \n",
       "3   6/30/02 3:15  helsinki (finland)   NaN     NaN   unknown   \n",
       "4  7/15/74 22:00          bridgeview    il      us  triangle   \n",
       "\n",
       "  duration (seconds) duration (minutes)  \\\n",
       "0              0.001           0.001sec   \n",
       "1               0.01        millisecond   \n",
       "2               0.01       milliseconds   \n",
       "3               0.01            0.01sec   \n",
       "4               0.01       milliseconds   \n",
       "\n",
       "                                            comments   longitude   latitude  \\\n",
       "0  brilliant strobe light at 4am&#44 moving light...  169.875050 -46.163992   \n",
       "1  Incredible...full moon sized bright orange fir... -121.285000  45.696111   \n",
       "2                             4 red laser like lines  -88.191944  42.276111   \n",
       "3                                    Overpassing UFO   24.941025  60.173324   \n",
       "4  Triangular streak SW to NE horizon to horizon ...  -87.804167  41.750000   \n",
       "\n",
       "   sighting  \n",
       "0         1  \n",
       "1         1  \n",
       "2         1  \n",
       "3         1  \n",
       "4         1  "
      ]
     },
     "execution_count": 57,
     "metadata": {},
     "output_type": "execute_result"
    }
   ],
   "source": [
    "ufo.head()"
   ]
  },
  {
   "cell_type": "code",
   "execution_count": 58,
   "metadata": {},
   "outputs": [
    {
     "data": {
      "text/plain": [
       "datetime                 0\n",
       "city                     0\n",
       "state                 5797\n",
       "country               9670\n",
       "shape                 1932\n",
       "duration (seconds)       0\n",
       "duration (minutes)       0\n",
       "comments                15\n",
       "longitude                0\n",
       "latitude                 0\n",
       "sighting                 0\n",
       "dtype: int64"
      ]
     },
     "execution_count": 58,
     "metadata": {},
     "output_type": "execute_result"
    }
   ],
   "source": [
    "ufo.isnull().sum()"
   ]
  },
  {
   "cell_type": "code",
   "execution_count": 59,
   "metadata": {},
   "outputs": [],
   "source": [
    "ufo.dropna(how = 'any', axis=0, subset = ['datetime', 'country', 'latitude', 'longitude', 'shape', 'city', 'comments', 'state',],inplace=True)"
   ]
  },
  {
   "cell_type": "code",
   "execution_count": 60,
   "metadata": {},
   "outputs": [
    {
     "data": {
      "text/html": [
       "<div>\n",
       "<style scoped>\n",
       "    .dataframe tbody tr th:only-of-type {\n",
       "        vertical-align: middle;\n",
       "    }\n",
       "\n",
       "    .dataframe tbody tr th {\n",
       "        vertical-align: top;\n",
       "    }\n",
       "\n",
       "    .dataframe thead th {\n",
       "        text-align: right;\n",
       "    }\n",
       "</style>\n",
       "<table border=\"1\" class=\"dataframe\">\n",
       "  <thead>\n",
       "    <tr style=\"text-align: right;\">\n",
       "      <th></th>\n",
       "      <th>datetime</th>\n",
       "      <th>city</th>\n",
       "      <th>state</th>\n",
       "      <th>country</th>\n",
       "      <th>shape</th>\n",
       "      <th>duration (seconds)</th>\n",
       "      <th>duration (minutes)</th>\n",
       "      <th>comments</th>\n",
       "      <th>longitude</th>\n",
       "      <th>latitude</th>\n",
       "      <th>sighting</th>\n",
       "    </tr>\n",
       "  </thead>\n",
       "  <tbody>\n",
       "    <tr>\n",
       "      <th>1</th>\n",
       "      <td>12/9/99 18:15</td>\n",
       "      <td>lyle</td>\n",
       "      <td>wa</td>\n",
       "      <td>us</td>\n",
       "      <td>fireball</td>\n",
       "      <td>0.01</td>\n",
       "      <td>millisecond</td>\n",
       "      <td>Incredible...full moon sized bright orange fir...</td>\n",
       "      <td>-121.285000</td>\n",
       "      <td>45.696111</td>\n",
       "      <td>1</td>\n",
       "    </tr>\n",
       "    <tr>\n",
       "      <th>2</th>\n",
       "      <td>5/15/87 23:00</td>\n",
       "      <td>island lake</td>\n",
       "      <td>il</td>\n",
       "      <td>us</td>\n",
       "      <td>light</td>\n",
       "      <td>0.01</td>\n",
       "      <td>milliseconds</td>\n",
       "      <td>4 red laser like lines</td>\n",
       "      <td>-88.191944</td>\n",
       "      <td>42.276111</td>\n",
       "      <td>1</td>\n",
       "    </tr>\n",
       "    <tr>\n",
       "      <th>4</th>\n",
       "      <td>7/15/74 22:00</td>\n",
       "      <td>bridgeview</td>\n",
       "      <td>il</td>\n",
       "      <td>us</td>\n",
       "      <td>triangle</td>\n",
       "      <td>0.01</td>\n",
       "      <td>milliseconds</td>\n",
       "      <td>Triangular streak SW to NE horizon to horizon ...</td>\n",
       "      <td>-87.804167</td>\n",
       "      <td>41.750000</td>\n",
       "      <td>1</td>\n",
       "    </tr>\n",
       "    <tr>\n",
       "      <th>5</th>\n",
       "      <td>8/29/02 23:45</td>\n",
       "      <td>toledo</td>\n",
       "      <td>or</td>\n",
       "      <td>us</td>\n",
       "      <td>triangle</td>\n",
       "      <td>0.01</td>\n",
       "      <td>millisecond</td>\n",
       "      <td>The object I saw was  very clear and moved at ...</td>\n",
       "      <td>-123.937222</td>\n",
       "      <td>44.621667</td>\n",
       "      <td>1</td>\n",
       "    </tr>\n",
       "    <tr>\n",
       "      <th>7</th>\n",
       "      <td>11/28/01 3:41</td>\n",
       "      <td>milwaukie</td>\n",
       "      <td>or</td>\n",
       "      <td>us</td>\n",
       "      <td>fireball</td>\n",
       "      <td>0.02</td>\n",
       "      <td>0.02 sec</td>\n",
       "      <td>High speed moving fireball fallow by a bright ...</td>\n",
       "      <td>-122.638056</td>\n",
       "      <td>45.446389</td>\n",
       "      <td>1</td>\n",
       "    </tr>\n",
       "  </tbody>\n",
       "</table>\n",
       "</div>"
      ],
      "text/plain": [
       "        datetime         city state country     shape duration (seconds)  \\\n",
       "1  12/9/99 18:15         lyle    wa      us  fireball               0.01   \n",
       "2  5/15/87 23:00  island lake    il      us     light               0.01   \n",
       "4  7/15/74 22:00   bridgeview    il      us  triangle               0.01   \n",
       "5  8/29/02 23:45       toledo    or      us  triangle               0.01   \n",
       "7  11/28/01 3:41    milwaukie    or      us  fireball               0.02   \n",
       "\n",
       "  duration (minutes)                                           comments  \\\n",
       "1        millisecond  Incredible...full moon sized bright orange fir...   \n",
       "2       milliseconds                             4 red laser like lines   \n",
       "4       milliseconds  Triangular streak SW to NE horizon to horizon ...   \n",
       "5        millisecond  The object I saw was  very clear and moved at ...   \n",
       "7           0.02 sec  High speed moving fireball fallow by a bright ...   \n",
       "\n",
       "    longitude   latitude  sighting  \n",
       "1 -121.285000  45.696111         1  \n",
       "2  -88.191944  42.276111         1  \n",
       "4  -87.804167  41.750000         1  \n",
       "5 -123.937222  44.621667         1  \n",
       "7 -122.638056  45.446389         1  "
      ]
     },
     "execution_count": 60,
     "metadata": {},
     "output_type": "execute_result"
    }
   ],
   "source": [
    "ufo.head()"
   ]
  },
  {
   "cell_type": "code",
   "execution_count": 61,
   "metadata": {},
   "outputs": [],
   "source": [
    "ufo['datetime'] = pd.to_datetime(ufo['datetime'])"
   ]
  },
  {
   "cell_type": "code",
   "execution_count": 62,
   "metadata": {},
   "outputs": [
    {
     "data": {
      "text/html": [
       "<div>\n",
       "<style scoped>\n",
       "    .dataframe tbody tr th:only-of-type {\n",
       "        vertical-align: middle;\n",
       "    }\n",
       "\n",
       "    .dataframe tbody tr th {\n",
       "        vertical-align: top;\n",
       "    }\n",
       "\n",
       "    .dataframe thead th {\n",
       "        text-align: right;\n",
       "    }\n",
       "</style>\n",
       "<table border=\"1\" class=\"dataframe\">\n",
       "  <thead>\n",
       "    <tr style=\"text-align: right;\">\n",
       "      <th></th>\n",
       "      <th>datetime</th>\n",
       "      <th>city</th>\n",
       "      <th>state</th>\n",
       "      <th>country</th>\n",
       "      <th>shape</th>\n",
       "      <th>duration (seconds)</th>\n",
       "      <th>duration (minutes)</th>\n",
       "      <th>comments</th>\n",
       "      <th>longitude</th>\n",
       "      <th>latitude</th>\n",
       "      <th>sighting</th>\n",
       "    </tr>\n",
       "  </thead>\n",
       "  <tbody>\n",
       "    <tr>\n",
       "      <th>1</th>\n",
       "      <td>1999-12-09 18:15:00</td>\n",
       "      <td>lyle</td>\n",
       "      <td>wa</td>\n",
       "      <td>us</td>\n",
       "      <td>fireball</td>\n",
       "      <td>0.01</td>\n",
       "      <td>millisecond</td>\n",
       "      <td>Incredible...full moon sized bright orange fir...</td>\n",
       "      <td>-121.285000</td>\n",
       "      <td>45.696111</td>\n",
       "      <td>1</td>\n",
       "    </tr>\n",
       "    <tr>\n",
       "      <th>2</th>\n",
       "      <td>1987-05-15 23:00:00</td>\n",
       "      <td>island lake</td>\n",
       "      <td>il</td>\n",
       "      <td>us</td>\n",
       "      <td>light</td>\n",
       "      <td>0.01</td>\n",
       "      <td>milliseconds</td>\n",
       "      <td>4 red laser like lines</td>\n",
       "      <td>-88.191944</td>\n",
       "      <td>42.276111</td>\n",
       "      <td>1</td>\n",
       "    </tr>\n",
       "    <tr>\n",
       "      <th>4</th>\n",
       "      <td>1974-07-15 22:00:00</td>\n",
       "      <td>bridgeview</td>\n",
       "      <td>il</td>\n",
       "      <td>us</td>\n",
       "      <td>triangle</td>\n",
       "      <td>0.01</td>\n",
       "      <td>milliseconds</td>\n",
       "      <td>Triangular streak SW to NE horizon to horizon ...</td>\n",
       "      <td>-87.804167</td>\n",
       "      <td>41.750000</td>\n",
       "      <td>1</td>\n",
       "    </tr>\n",
       "    <tr>\n",
       "      <th>5</th>\n",
       "      <td>2002-08-29 23:45:00</td>\n",
       "      <td>toledo</td>\n",
       "      <td>or</td>\n",
       "      <td>us</td>\n",
       "      <td>triangle</td>\n",
       "      <td>0.01</td>\n",
       "      <td>millisecond</td>\n",
       "      <td>The object I saw was  very clear and moved at ...</td>\n",
       "      <td>-123.937222</td>\n",
       "      <td>44.621667</td>\n",
       "      <td>1</td>\n",
       "    </tr>\n",
       "    <tr>\n",
       "      <th>7</th>\n",
       "      <td>2001-11-28 03:41:00</td>\n",
       "      <td>milwaukie</td>\n",
       "      <td>or</td>\n",
       "      <td>us</td>\n",
       "      <td>fireball</td>\n",
       "      <td>0.02</td>\n",
       "      <td>0.02 sec</td>\n",
       "      <td>High speed moving fireball fallow by a bright ...</td>\n",
       "      <td>-122.638056</td>\n",
       "      <td>45.446389</td>\n",
       "      <td>1</td>\n",
       "    </tr>\n",
       "  </tbody>\n",
       "</table>\n",
       "</div>"
      ],
      "text/plain": [
       "             datetime         city state country     shape duration (seconds)  \\\n",
       "1 1999-12-09 18:15:00         lyle    wa      us  fireball               0.01   \n",
       "2 1987-05-15 23:00:00  island lake    il      us     light               0.01   \n",
       "4 1974-07-15 22:00:00   bridgeview    il      us  triangle               0.01   \n",
       "5 2002-08-29 23:45:00       toledo    or      us  triangle               0.01   \n",
       "7 2001-11-28 03:41:00    milwaukie    or      us  fireball               0.02   \n",
       "\n",
       "  duration (minutes)                                           comments  \\\n",
       "1        millisecond  Incredible...full moon sized bright orange fir...   \n",
       "2       milliseconds                             4 red laser like lines   \n",
       "4       milliseconds  Triangular streak SW to NE horizon to horizon ...   \n",
       "5        millisecond  The object I saw was  very clear and moved at ...   \n",
       "7           0.02 sec  High speed moving fireball fallow by a bright ...   \n",
       "\n",
       "    longitude   latitude  sighting  \n",
       "1 -121.285000  45.696111         1  \n",
       "2  -88.191944  42.276111         1  \n",
       "4  -87.804167  41.750000         1  \n",
       "5 -123.937222  44.621667         1  \n",
       "7 -122.638056  45.446389         1  "
      ]
     },
     "execution_count": 62,
     "metadata": {},
     "output_type": "execute_result"
    }
   ],
   "source": [
    "ufo.head()"
   ]
  },
  {
   "cell_type": "code",
   "execution_count": 63,
   "metadata": {},
   "outputs": [
    {
     "name": "stdout",
     "output_type": "stream",
     "text": [
      "<class 'pandas.core.frame.DataFrame'>\n",
      "Int64Index: 66516 entries, 1 to 80329\n",
      "Data columns (total 11 columns):\n",
      " #   Column              Non-Null Count  Dtype         \n",
      "---  ------              --------------  -----         \n",
      " 0   datetime            66516 non-null  datetime64[ns]\n",
      " 1   city                66516 non-null  object        \n",
      " 2   state               66516 non-null  object        \n",
      " 3   country             66516 non-null  object        \n",
      " 4   shape               66516 non-null  object        \n",
      " 5   duration (seconds)  66516 non-null  object        \n",
      " 6   duration (minutes)  66516 non-null  object        \n",
      " 7   comments            66516 non-null  object        \n",
      " 8   longitude           66516 non-null  float64       \n",
      " 9   latitude            66516 non-null  float64       \n",
      " 10  sighting            66516 non-null  int64         \n",
      "dtypes: datetime64[ns](1), float64(2), int64(1), object(7)\n",
      "memory usage: 6.1+ MB\n"
     ]
    }
   ],
   "source": [
    "ufo.info()"
   ]
  },
  {
   "cell_type": "code",
   "execution_count": 64,
   "metadata": {},
   "outputs": [],
   "source": [
    "# convert column to float\n",
    "ufo['latitude'] = ufo['latitude'].astype(float)\n",
    "ufo['duration (seconds)'] = ufo['duration (seconds)'].astype(float)\n"
   ]
  },
  {
   "cell_type": "code",
   "execution_count": 65,
   "metadata": {},
   "outputs": [],
   "source": [
    "# Create a new column, year, using just the year from the datetime\n",
    "ufo['year'] = ufo['datetime'].dt.year\n",
    "\n",
    "# Create new column, month, using just the month from the datetime\n",
    "ufo['month'] = ufo['datetime'].dt.month"
   ]
  },
  {
   "cell_type": "code",
   "execution_count": 66,
   "metadata": {},
   "outputs": [
    {
     "name": "stdout",
     "output_type": "stream",
     "text": [
      "<class 'pandas.core.frame.DataFrame'>\n",
      "Int64Index: 66516 entries, 1 to 80329\n",
      "Data columns (total 13 columns):\n",
      " #   Column              Non-Null Count  Dtype         \n",
      "---  ------              --------------  -----         \n",
      " 0   datetime            66516 non-null  datetime64[ns]\n",
      " 1   city                66516 non-null  object        \n",
      " 2   state               66516 non-null  object        \n",
      " 3   country             66516 non-null  object        \n",
      " 4   shape               66516 non-null  object        \n",
      " 5   duration (seconds)  66516 non-null  float64       \n",
      " 6   duration (minutes)  66516 non-null  object        \n",
      " 7   comments            66516 non-null  object        \n",
      " 8   longitude           66516 non-null  float64       \n",
      " 9   latitude            66516 non-null  float64       \n",
      " 10  sighting            66516 non-null  int64         \n",
      " 11  year                66516 non-null  int64         \n",
      " 12  month               66516 non-null  int64         \n",
      "dtypes: datetime64[ns](1), float64(3), int64(3), object(6)\n",
      "memory usage: 7.1+ MB\n"
     ]
    }
   ],
   "source": [
    "ufo.info()"
   ]
  },
  {
   "cell_type": "code",
   "execution_count": 67,
   "metadata": {},
   "outputs": [
    {
     "data": {
      "text/html": [
       "<div>\n",
       "<style scoped>\n",
       "    .dataframe tbody tr th:only-of-type {\n",
       "        vertical-align: middle;\n",
       "    }\n",
       "\n",
       "    .dataframe tbody tr th {\n",
       "        vertical-align: top;\n",
       "    }\n",
       "\n",
       "    .dataframe thead th {\n",
       "        text-align: right;\n",
       "    }\n",
       "</style>\n",
       "<table border=\"1\" class=\"dataframe\">\n",
       "  <thead>\n",
       "    <tr style=\"text-align: right;\">\n",
       "      <th></th>\n",
       "      <th>duration (seconds)</th>\n",
       "      <th>year</th>\n",
       "      <th>month</th>\n",
       "    </tr>\n",
       "  </thead>\n",
       "  <tbody>\n",
       "    <tr>\n",
       "      <th>count</th>\n",
       "      <td>6.651600e+04</td>\n",
       "      <td>66516.000000</td>\n",
       "      <td>66516.000000</td>\n",
       "    </tr>\n",
       "    <tr>\n",
       "      <th>mean</th>\n",
       "      <td>6.572997e+03</td>\n",
       "      <td>2006.789254</td>\n",
       "      <td>6.872076</td>\n",
       "    </tr>\n",
       "    <tr>\n",
       "      <th>std</th>\n",
       "      <td>5.108910e+05</td>\n",
       "      <td>12.090191</td>\n",
       "      <td>3.227994</td>\n",
       "    </tr>\n",
       "    <tr>\n",
       "      <th>min</th>\n",
       "      <td>1.000000e-02</td>\n",
       "      <td>1972.000000</td>\n",
       "      <td>1.000000</td>\n",
       "    </tr>\n",
       "    <tr>\n",
       "      <th>25%</th>\n",
       "      <td>3.000000e+01</td>\n",
       "      <td>2002.000000</td>\n",
       "      <td>4.000000</td>\n",
       "    </tr>\n",
       "    <tr>\n",
       "      <th>50%</th>\n",
       "      <td>1.800000e+02</td>\n",
       "      <td>2007.000000</td>\n",
       "      <td>7.000000</td>\n",
       "    </tr>\n",
       "    <tr>\n",
       "      <th>75%</th>\n",
       "      <td>6.000000e+02</td>\n",
       "      <td>2011.000000</td>\n",
       "      <td>10.000000</td>\n",
       "    </tr>\n",
       "    <tr>\n",
       "      <th>max</th>\n",
       "      <td>8.280000e+07</td>\n",
       "      <td>2071.000000</td>\n",
       "      <td>12.000000</td>\n",
       "    </tr>\n",
       "  </tbody>\n",
       "</table>\n",
       "</div>"
      ],
      "text/plain": [
       "       duration (seconds)          year         month\n",
       "count        6.651600e+04  66516.000000  66516.000000\n",
       "mean         6.572997e+03   2006.789254      6.872076\n",
       "std          5.108910e+05     12.090191      3.227994\n",
       "min          1.000000e-02   1972.000000      1.000000\n",
       "25%          3.000000e+01   2002.000000      4.000000\n",
       "50%          1.800000e+02   2007.000000      7.000000\n",
       "75%          6.000000e+02   2011.000000     10.000000\n",
       "max          8.280000e+07   2071.000000     12.000000"
      ]
     },
     "execution_count": 67,
     "metadata": {},
     "output_type": "execute_result"
    }
   ],
   "source": [
    "ufo[['duration (seconds)', 'year', 'month']].describe()"
   ]
  },
  {
   "cell_type": "code",
   "execution_count": 68,
   "metadata": {},
   "outputs": [
    {
     "name": "stdout",
     "output_type": "stream",
     "text": [
      "Number of States: 67\n",
      "Number of Countries: 4\n",
      "Number of Shapes: 28\n"
     ]
    }
   ],
   "source": [
    "# How Many Unique States, Countries, and Shape Are Included In The Data\n",
    "\n",
    "print('Number of States:', len(ufo['state'].unique()))\n",
    "print('Number of Countries:', len(ufo['country'].unique()))\n",
    "print('Number of Shapes:', len(ufo['shape'].unique()))"
   ]
  },
  {
   "cell_type": "code",
   "execution_count": 69,
   "metadata": {},
   "outputs": [
    {
     "data": {
      "text/plain": [
       "country\n",
       "us    63553\n",
       "ca     2942\n",
       "gb       11\n",
       "au       10\n",
       "dtype: int64"
      ]
     },
     "execution_count": 69,
     "metadata": {},
     "output_type": "execute_result"
    }
   ],
   "source": [
    "ufo.value_counts('country')"
   ]
  },
  {
   "cell_type": "code",
   "execution_count": 70,
   "metadata": {},
   "outputs": [
    {
     "data": {
      "text/plain": [
       "state\n",
       "ca    8683\n",
       "fl    3754\n",
       "wa    3707\n",
       "tx    3398\n",
       "ny    2915\n",
       "il    2447\n",
       "az    2362\n",
       "pa    2319\n",
       "oh    2251\n",
       "mi    1781\n",
       "dtype: int64"
      ]
     },
     "execution_count": 70,
     "metadata": {},
     "output_type": "execute_result"
    }
   ],
   "source": [
    "# Top 10 US States Report The Most Sightings\n",
    "ufo[ufo['country'] == 'us'].value_counts('state', ascending=False).nlargest(10)"
   ]
  },
  {
   "cell_type": "code",
   "execution_count": 71,
   "metadata": {},
   "outputs": [
    {
     "data": {
      "text/plain": [
       "state\n",
       "ca    376\n",
       "az    172\n",
       "wa    167\n",
       "tx    116\n",
       "fl     97\n",
       "ny     90\n",
       "or     84\n",
       "il     72\n",
       "oh     69\n",
       "pa     59\n",
       "dtype: int64"
      ]
     },
     "execution_count": 71,
     "metadata": {},
     "output_type": "execute_result"
    }
   ],
   "source": [
    "ufo[(ufo['country'] == 'us') & (ufo['year'] == 2000)].value_counts('state', ascending=False).nlargest(10)"
   ]
  },
  {
   "cell_type": "code",
   "execution_count": 72,
   "metadata": {},
   "outputs": [
    {
     "data": {
      "text/plain": [
       "shape\n",
       "light       14130\n",
       "triangle     6817\n",
       "circle       6405\n",
       "fireball     5364\n",
       "unknown      4774\n",
       "dtype: int64"
      ]
     },
     "execution_count": 72,
     "metadata": {},
     "output_type": "execute_result"
    }
   ],
   "source": [
    "# Top 5 Most Common Shapes\n",
    "ufo.value_counts('shape', ascending=False).nlargest(5)"
   ]
  },
  {
   "cell_type": "code",
   "execution_count": 73,
   "metadata": {},
   "outputs": [
    {
     "data": {
      "text/plain": [
       "shape\n",
       "light       659\n",
       "circle      288\n",
       "triangle    269\n",
       "other       239\n",
       "fireball    216\n",
       "dtype: int64"
      ]
     },
     "execution_count": 73,
     "metadata": {},
     "output_type": "execute_result"
    }
   ],
   "source": [
    "ufo[ufo['country'] != 'us'].value_counts('shape', ascending=False).nlargest(5)"
   ]
  },
  {
   "cell_type": "code",
   "execution_count": 74,
   "metadata": {},
   "outputs": [
    {
     "data": {
      "text/html": [
       "<div>\n",
       "<style scoped>\n",
       "    .dataframe tbody tr th:only-of-type {\n",
       "        vertical-align: middle;\n",
       "    }\n",
       "\n",
       "    .dataframe tbody tr th {\n",
       "        vertical-align: top;\n",
       "    }\n",
       "\n",
       "    .dataframe thead th {\n",
       "        text-align: right;\n",
       "    }\n",
       "</style>\n",
       "<table border=\"1\" class=\"dataframe\">\n",
       "  <thead>\n",
       "    <tr style=\"text-align: right;\">\n",
       "      <th></th>\n",
       "      <th>datetime</th>\n",
       "      <th>city</th>\n",
       "      <th>state</th>\n",
       "      <th>country</th>\n",
       "      <th>shape</th>\n",
       "      <th>duration (seconds)</th>\n",
       "      <th>duration (minutes)</th>\n",
       "      <th>comments</th>\n",
       "      <th>longitude</th>\n",
       "      <th>latitude</th>\n",
       "      <th>sighting</th>\n",
       "      <th>year</th>\n",
       "      <th>month</th>\n",
       "    </tr>\n",
       "  </thead>\n",
       "  <tbody>\n",
       "    <tr>\n",
       "      <th>2</th>\n",
       "      <td>1987-05-15 23:00:00</td>\n",
       "      <td>island lake</td>\n",
       "      <td>il</td>\n",
       "      <td>us</td>\n",
       "      <td>light</td>\n",
       "      <td>0.01</td>\n",
       "      <td>milliseconds</td>\n",
       "      <td>4 red laser like lines</td>\n",
       "      <td>-88.191944</td>\n",
       "      <td>42.276111</td>\n",
       "      <td>1</td>\n",
       "      <td>1987</td>\n",
       "      <td>5</td>\n",
       "    </tr>\n",
       "    <tr>\n",
       "      <th>4</th>\n",
       "      <td>1974-07-15 22:00:00</td>\n",
       "      <td>bridgeview</td>\n",
       "      <td>il</td>\n",
       "      <td>us</td>\n",
       "      <td>triangle</td>\n",
       "      <td>0.01</td>\n",
       "      <td>milliseconds</td>\n",
       "      <td>Triangular streak SW to NE horizon to horizon ...</td>\n",
       "      <td>-87.804167</td>\n",
       "      <td>41.750000</td>\n",
       "      <td>1</td>\n",
       "      <td>1974</td>\n",
       "      <td>7</td>\n",
       "    </tr>\n",
       "    <tr>\n",
       "      <th>5</th>\n",
       "      <td>2002-08-29 23:45:00</td>\n",
       "      <td>toledo</td>\n",
       "      <td>or</td>\n",
       "      <td>us</td>\n",
       "      <td>triangle</td>\n",
       "      <td>0.01</td>\n",
       "      <td>millisecond</td>\n",
       "      <td>The object I saw was  very clear and moved at ...</td>\n",
       "      <td>-123.937222</td>\n",
       "      <td>44.621667</td>\n",
       "      <td>1</td>\n",
       "      <td>2002</td>\n",
       "      <td>8</td>\n",
       "    </tr>\n",
       "    <tr>\n",
       "      <th>9</th>\n",
       "      <td>2001-10-15 20:22:00</td>\n",
       "      <td>port orchard</td>\n",
       "      <td>wa</td>\n",
       "      <td>us</td>\n",
       "      <td>circle</td>\n",
       "      <td>0.05</td>\n",
       "      <td>.05 seconds</td>\n",
       "      <td>Large blue circular object observed falling at...</td>\n",
       "      <td>-122.635000</td>\n",
       "      <td>47.540556</td>\n",
       "      <td>1</td>\n",
       "      <td>2001</td>\n",
       "      <td>10</td>\n",
       "    </tr>\n",
       "    <tr>\n",
       "      <th>10</th>\n",
       "      <td>2012-10-09 23:30:00</td>\n",
       "      <td>woodbourne</td>\n",
       "      <td>ny</td>\n",
       "      <td>us</td>\n",
       "      <td>other</td>\n",
       "      <td>0.05</td>\n",
       "      <td>.05 seconds</td>\n",
       "      <td>A basket -shaped object&amp;#44 intense orange at ...</td>\n",
       "      <td>-74.594444</td>\n",
       "      <td>41.759722</td>\n",
       "      <td>1</td>\n",
       "      <td>2012</td>\n",
       "      <td>10</td>\n",
       "    </tr>\n",
       "  </tbody>\n",
       "</table>\n",
       "</div>"
      ],
      "text/plain": [
       "              datetime          city state country     shape  \\\n",
       "2  1987-05-15 23:00:00   island lake    il      us     light   \n",
       "4  1974-07-15 22:00:00    bridgeview    il      us  triangle   \n",
       "5  2002-08-29 23:45:00        toledo    or      us  triangle   \n",
       "9  2001-10-15 20:22:00  port orchard    wa      us    circle   \n",
       "10 2012-10-09 23:30:00    woodbourne    ny      us     other   \n",
       "\n",
       "    duration (seconds) duration (minutes)  \\\n",
       "2                 0.01       milliseconds   \n",
       "4                 0.01       milliseconds   \n",
       "5                 0.01        millisecond   \n",
       "9                 0.05        .05 seconds   \n",
       "10                0.05        .05 seconds   \n",
       "\n",
       "                                             comments   longitude   latitude  \\\n",
       "2                              4 red laser like lines  -88.191944  42.276111   \n",
       "4   Triangular streak SW to NE horizon to horizon ...  -87.804167  41.750000   \n",
       "5   The object I saw was  very clear and moved at ... -123.937222  44.621667   \n",
       "9   Large blue circular object observed falling at... -122.635000  47.540556   \n",
       "10  A basket -shaped object&#44 intense orange at ...  -74.594444  41.759722   \n",
       "\n",
       "    sighting  year  month  \n",
       "2          1  1987      5  \n",
       "4          1  1974      7  \n",
       "5          1  2002      8  \n",
       "9          1  2001     10  \n",
       "10         1  2012     10  "
      ]
     },
     "execution_count": 74,
     "metadata": {},
     "output_type": "execute_result"
    }
   ],
   "source": [
    "# Creating Dataframe For The Top 5 Shapes\n",
    "\n",
    "top_5_shapes = ['light', 'circle', 'triangle', 'other', 'sphere']\n",
    "\n",
    "top_5_ufo = ufo[ufo['shape'].isin(top_5_shapes)]\n",
    "\n",
    "top_5_ufo.head()"
   ]
  },
  {
   "cell_type": "code",
   "execution_count": 75,
   "metadata": {},
   "outputs": [
    {
     "name": "stdout",
     "output_type": "stream",
     "text": [
      "The average sighting lasts for 6573.0 seconds, or 110 minutes.\n",
      "The median sighting duration is 180.0 seconds, or 3 minutes.\n"
     ]
    }
   ],
   "source": [
    "# aggregations\n",
    "\n",
    "avg_sighting = round(ufo['duration (seconds)'].mean(), 2)\n",
    "median_sighting = round(ufo['duration (seconds)'].median(), 2)\n",
    "\n",
    "# print out the times\n",
    "print('The average sighting lasts for {0} seconds, or {1} minutes.'.format(avg_sighting, round(avg_sighting/60),2))\n",
    "print('The median sighting duration is {0} seconds, or {1} minutes.'.format(median_sighting, round(median_sighting/60),2))"
   ]
  },
  {
   "cell_type": "code",
   "execution_count": 76,
   "metadata": {},
   "outputs": [
    {
     "data": {
      "text/plain": [
       "Text(0, 0.5, 'Sightings')"
      ]
     },
     "execution_count": 76,
     "metadata": {},
     "output_type": "execute_result"
    },
    {
     "data": {
      "image/png": "[encoded data removed]",
      "text/plain": [
       "<Figure size 2520x504 with 1 Axes>"
      ]
     },
     "metadata": {
      "needs_background": "light"
     },
     "output_type": "display_data"
    }
   ],
   "source": [
    "#set figure size \n",
    "plt.figure(figsize=(35,7))\n",
    "\n",
    "# group data by year and month, to determine the number of sightings in each month\n",
    "year_month_ufo = ufo.groupby(['year','month']).agg('sum').reset_index()\n",
    "\n",
    "# group data by month to figure out the average number of sightings in each month \n",
    "month_ufo = year_month_ufo.groupby('month').agg('mean').reset_index()\n",
    "\n",
    "# Replace the month number with month name\n",
    "month_ufo['month'] = month_ufo['month'].replace({1:'Jan', 2:'Feb', 3:'Mar', 4:'Apr', 5:'May', 6:'Jun', 7:'Jul', 8:'Aug', 9:'Sep', 10:'Oct', 11:'Nov', 12:'Dec'})\n",
    "\n",
    "# Create plot\n",
    "plots = sns.barplot(data = month_ufo, x = month_ufo['month'], y=month_ufo['sighting'])\n",
    "\n",
    "# Iterrating over the bars one-by-one to annoate each bar with the number of average sightings\n",
    "for bar in plots.patches:\n",
    "    plots.annotate(format(bar.get_height(), '.2f'),\n",
    "                   (bar.get_x() + bar.get_width() / 2,\n",
    "                    bar.get_height()), ha='center', va='center',\n",
    "                   size=12, xytext=(0, 8),\n",
    "                   textcoords='offset points')\n",
    "    \n",
    "# Modify titles and labels\n",
    "plt.suptitle('Average Number of Sighting By Month', fontsize=35)\n",
    "plt.xlabel(\"Month\", size=14)\n",
    "plt.ylabel(\"Sightings\", size=14)"
   ]
  },
  {
   "cell_type": "code",
   "execution_count": 77,
   "metadata": {},
   "outputs": [],
   "source": [
    "ufo.to_csv(r'/Users/gregorygreen/scrubbed4.csv')"
   ]
  }
 ],
 "metadata": {
  "kernelspec": {
   "display_name": "Python 3.8.9 64-bit",
   "language": "python",
   "name": "python3"
  },
  "language_info": {
   "codemirror_mode": {
    "name": "ipython",
    "version": 3
   },
   "file_extension": ".py",
   "mimetype": "text/x-python",
   "name": "python",
   "nbconvert_exporter": "python",
   "pygments_lexer": "ipython3",
   "version": "3.8.9"
  },
  "orig_nbformat": 4,
  "vscode": {
   "interpreter": {
    "hash": "31f2aee4e71d21fbe5cf8b01ff0e069b9275f58929596ceb00d14d90e3e16cd6"
   }
  }
 },
 "nbformat": 4,
 "nbformat_minor": 2
}
