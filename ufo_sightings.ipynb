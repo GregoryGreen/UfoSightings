{
 "cells": [
  {
   "cell_type": "code",
   "execution_count": 1,
   "metadata": {},
   "outputs": [],
   "source": [
    "import pandas as pd\n",
    "import numpy as np\n",
    "import matplotlib.pyplot as plt\n",
    "import seaborn as sns\n",
    "from datetime import datetime\n",
    "from shapely.geometry import Point\n",
    "import geopandas as gpd\n",
    "from geopandas import GeoDataFrame"
   ]
  },
  {
   "cell_type": "code",
   "execution_count": 2,
   "metadata": {},
   "outputs": [],
   "source": [
    "ufo = pd.read_csv('/Users/gregorygreen/scrubbed.csv')"
   ]
  },
  {
   "cell_type": "code",
   "execution_count": 3,
   "metadata": {},
   "outputs": [
    {
     "data": {
      "text/plain": [
       "array(['datetime', 'city', 'state', 'country', 'shape',\n",
       "       'duration (seconds)', 'duration (hours/min)', 'comments',\n",
       "       'date posted', 'latitude', 'longitude '], dtype=object)"
      ]
     },
     "execution_count": 3,
     "metadata": {},
     "output_type": "execute_result"
    }
   ],
   "source": [
    "ufo.columns.values"
   ]
  },
  {
   "cell_type": "code",
   "execution_count": 4,
   "metadata": {},
   "outputs": [],
   "source": [
    "ufo['longitude'] = ufo['longitude '].astype(float)"
   ]
  },
  {
   "cell_type": "code",
   "execution_count": 5,
   "metadata": {},
   "outputs": [],
   "source": [
    "# Add a `sighting` column to make some other calculations easy\n",
    "ufo['sighting'] = 1"
   ]
  },
  {
   "cell_type": "code",
   "execution_count": 6,
   "metadata": {},
   "outputs": [],
   "source": [
    "ufo.drop(['longitude ', 'duration (hours/min)'], axis=1, inplace=True)"
   ]
  },
  {
   "cell_type": "code",
   "execution_count": 7,
   "metadata": {},
   "outputs": [],
   "source": [
    "ufo = ufo.reindex(columns=['datetime','city', 'state', 'country', 'shape','duration (seconds)','comments','date posted', 'longitude', 'latitude', 'sighting'])"
   ]
  },
  {
   "cell_type": "code",
   "execution_count": 8,
   "metadata": {},
   "outputs": [
    {
     "data": {
      "text/plain": [
       "array(['datetime', 'city', 'state', 'country', 'shape',\n",
       "       'duration (seconds)', 'comments', 'date posted', 'longitude',\n",
       "       'latitude', 'sighting'], dtype=object)"
      ]
     },
     "execution_count": 8,
     "metadata": {},
     "output_type": "execute_result"
    }
   ],
   "source": [
    "ufo.columns.values"
   ]
  },
  {
   "cell_type": "code",
   "execution_count": 9,
   "metadata": {},
   "outputs": [
    {
     "data": {
      "text/html": [
       "<div>\n",
       "<style scoped>\n",
       "    .dataframe tbody tr th:only-of-type {\n",
       "        vertical-align: middle;\n",
       "    }\n",
       "\n",
       "    .dataframe tbody tr th {\n",
       "        vertical-align: top;\n",
       "    }\n",
       "\n",
       "    .dataframe thead th {\n",
       "        text-align: right;\n",
       "    }\n",
       "</style>\n",
       "<table border=\"1\" class=\"dataframe\">\n",
       "  <thead>\n",
       "    <tr style=\"text-align: right;\">\n",
       "      <th></th>\n",
       "      <th>datetime</th>\n",
       "      <th>city</th>\n",
       "      <th>state</th>\n",
       "      <th>country</th>\n",
       "      <th>shape</th>\n",
       "      <th>duration (seconds)</th>\n",
       "      <th>comments</th>\n",
       "      <th>date posted</th>\n",
       "      <th>longitude</th>\n",
       "      <th>latitude</th>\n",
       "      <th>sighting</th>\n",
       "    </tr>\n",
       "  </thead>\n",
       "  <tbody>\n",
       "    <tr>\n",
       "      <th>0</th>\n",
       "      <td>10/10/1949</td>\n",
       "      <td>san marcos</td>\n",
       "      <td>tx</td>\n",
       "      <td>us</td>\n",
       "      <td>cylinder</td>\n",
       "      <td>2700.0</td>\n",
       "      <td>This event took place in early fall around 194...</td>\n",
       "      <td>4/27/04</td>\n",
       "      <td>-97.941111</td>\n",
       "      <td>29.883056</td>\n",
       "      <td>1</td>\n",
       "    </tr>\n",
       "    <tr>\n",
       "      <th>1</th>\n",
       "      <td>10/10/1949</td>\n",
       "      <td>lackland afb</td>\n",
       "      <td>tx</td>\n",
       "      <td>NaN</td>\n",
       "      <td>light</td>\n",
       "      <td>7200.0</td>\n",
       "      <td>1949 Lackland AFB&amp;#44 TX.  Lights racing acros...</td>\n",
       "      <td>12/16/05</td>\n",
       "      <td>-98.581082</td>\n",
       "      <td>29.384210</td>\n",
       "      <td>1</td>\n",
       "    </tr>\n",
       "    <tr>\n",
       "      <th>2</th>\n",
       "      <td>10/10/1955</td>\n",
       "      <td>chester (uk/england)</td>\n",
       "      <td>NaN</td>\n",
       "      <td>gb</td>\n",
       "      <td>circle</td>\n",
       "      <td>20.0</td>\n",
       "      <td>Green/Orange circular disc over Chester&amp;#44 En...</td>\n",
       "      <td>1/21/08</td>\n",
       "      <td>-2.916667</td>\n",
       "      <td>53.200000</td>\n",
       "      <td>1</td>\n",
       "    </tr>\n",
       "    <tr>\n",
       "      <th>3</th>\n",
       "      <td>10/10/1956</td>\n",
       "      <td>edna</td>\n",
       "      <td>tx</td>\n",
       "      <td>us</td>\n",
       "      <td>circle</td>\n",
       "      <td>20.0</td>\n",
       "      <td>My older brother and twin sister were leaving ...</td>\n",
       "      <td>1/17/04</td>\n",
       "      <td>-96.645833</td>\n",
       "      <td>28.978333</td>\n",
       "      <td>1</td>\n",
       "    </tr>\n",
       "    <tr>\n",
       "      <th>4</th>\n",
       "      <td>10/10/1960</td>\n",
       "      <td>kaneohe</td>\n",
       "      <td>hi</td>\n",
       "      <td>us</td>\n",
       "      <td>light</td>\n",
       "      <td>900.0</td>\n",
       "      <td>AS a Marine 1st Lt. flying an FJ4B fighter/att...</td>\n",
       "      <td>1/22/04</td>\n",
       "      <td>-157.803611</td>\n",
       "      <td>21.418056</td>\n",
       "      <td>1</td>\n",
       "    </tr>\n",
       "  </tbody>\n",
       "</table>\n",
       "</div>"
      ],
      "text/plain": [
       "     datetime                  city state country     shape  \\\n",
       "0  10/10/1949            san marcos    tx      us  cylinder   \n",
       "1  10/10/1949          lackland afb    tx     NaN     light   \n",
       "2  10/10/1955  chester (uk/england)   NaN      gb    circle   \n",
       "3  10/10/1956                  edna    tx      us    circle   \n",
       "4  10/10/1960               kaneohe    hi      us     light   \n",
       "\n",
       "   duration (seconds)                                           comments  \\\n",
       "0              2700.0  This event took place in early fall around 194...   \n",
       "1              7200.0  1949 Lackland AFB&#44 TX.  Lights racing acros...   \n",
       "2                20.0  Green/Orange circular disc over Chester&#44 En...   \n",
       "3                20.0  My older brother and twin sister were leaving ...   \n",
       "4               900.0  AS a Marine 1st Lt. flying an FJ4B fighter/att...   \n",
       "\n",
       "  date posted   longitude   latitude  sighting  \n",
       "0     4/27/04  -97.941111  29.883056         1  \n",
       "1    12/16/05  -98.581082  29.384210         1  \n",
       "2     1/21/08   -2.916667  53.200000         1  \n",
       "3     1/17/04  -96.645833  28.978333         1  \n",
       "4     1/22/04 -157.803611  21.418056         1  "
      ]
     },
     "execution_count": 9,
     "metadata": {},
     "output_type": "execute_result"
    }
   ],
   "source": [
    "ufo.head()"
   ]
  },
  {
   "cell_type": "code",
   "execution_count": 10,
   "metadata": {},
   "outputs": [
    {
     "data": {
      "text/plain": [
       "datetime               101\n",
       "city                   101\n",
       "state                 5876\n",
       "country               9750\n",
       "shape                 2030\n",
       "duration (seconds)     101\n",
       "comments               116\n",
       "date posted            101\n",
       "longitude              101\n",
       "latitude               101\n",
       "sighting                 0\n",
       "dtype: int64"
      ]
     },
     "execution_count": 10,
     "metadata": {},
     "output_type": "execute_result"
    }
   ],
   "source": [
    "ufo.isnull().sum()"
   ]
  },
  {
   "cell_type": "code",
   "execution_count": 11,
   "metadata": {},
   "outputs": [],
   "source": [
    "ufo.dropna(how = 'any', axis=0, subset = ['country', 'latitude', 'longitude', 'shape', 'city', 'comments', 'date posted', 'state',],inplace=True)"
   ]
  },
  {
   "cell_type": "code",
   "execution_count": 12,
   "metadata": {},
   "outputs": [
    {
     "data": {
      "text/plain": [
       "datetime              0\n",
       "city                  0\n",
       "state                 0\n",
       "country               0\n",
       "shape                 0\n",
       "duration (seconds)    0\n",
       "comments              0\n",
       "date posted           0\n",
       "longitude             0\n",
       "latitude              0\n",
       "sighting              0\n",
       "dtype: int64"
      ]
     },
     "execution_count": 12,
     "metadata": {},
     "output_type": "execute_result"
    }
   ],
   "source": [
    "ufo.isnull().sum()"
   ]
  },
  {
   "cell_type": "code",
   "execution_count": 13,
   "metadata": {},
   "outputs": [
    {
     "data": {
      "text/html": [
       "<div>\n",
       "<style scoped>\n",
       "    .dataframe tbody tr th:only-of-type {\n",
       "        vertical-align: middle;\n",
       "    }\n",
       "\n",
       "    .dataframe tbody tr th {\n",
       "        vertical-align: top;\n",
       "    }\n",
       "\n",
       "    .dataframe thead th {\n",
       "        text-align: right;\n",
       "    }\n",
       "</style>\n",
       "<table border=\"1\" class=\"dataframe\">\n",
       "  <thead>\n",
       "    <tr style=\"text-align: right;\">\n",
       "      <th></th>\n",
       "      <th>datetime</th>\n",
       "      <th>city</th>\n",
       "      <th>state</th>\n",
       "      <th>country</th>\n",
       "      <th>shape</th>\n",
       "      <th>duration (seconds)</th>\n",
       "      <th>comments</th>\n",
       "      <th>date posted</th>\n",
       "      <th>longitude</th>\n",
       "      <th>latitude</th>\n",
       "      <th>sighting</th>\n",
       "    </tr>\n",
       "  </thead>\n",
       "  <tbody>\n",
       "    <tr>\n",
       "      <th>0</th>\n",
       "      <td>10/10/1949</td>\n",
       "      <td>san marcos</td>\n",
       "      <td>tx</td>\n",
       "      <td>us</td>\n",
       "      <td>cylinder</td>\n",
       "      <td>2700.0</td>\n",
       "      <td>This event took place in early fall around 194...</td>\n",
       "      <td>4/27/04</td>\n",
       "      <td>-97.941111</td>\n",
       "      <td>29.883056</td>\n",
       "      <td>1</td>\n",
       "    </tr>\n",
       "    <tr>\n",
       "      <th>3</th>\n",
       "      <td>10/10/1956</td>\n",
       "      <td>edna</td>\n",
       "      <td>tx</td>\n",
       "      <td>us</td>\n",
       "      <td>circle</td>\n",
       "      <td>20.0</td>\n",
       "      <td>My older brother and twin sister were leaving ...</td>\n",
       "      <td>1/17/04</td>\n",
       "      <td>-96.645833</td>\n",
       "      <td>28.978333</td>\n",
       "      <td>1</td>\n",
       "    </tr>\n",
       "    <tr>\n",
       "      <th>4</th>\n",
       "      <td>10/10/1960</td>\n",
       "      <td>kaneohe</td>\n",
       "      <td>hi</td>\n",
       "      <td>us</td>\n",
       "      <td>light</td>\n",
       "      <td>900.0</td>\n",
       "      <td>AS a Marine 1st Lt. flying an FJ4B fighter/att...</td>\n",
       "      <td>1/22/04</td>\n",
       "      <td>-157.803611</td>\n",
       "      <td>21.418056</td>\n",
       "      <td>1</td>\n",
       "    </tr>\n",
       "    <tr>\n",
       "      <th>5</th>\n",
       "      <td>10/10/1961</td>\n",
       "      <td>bristol</td>\n",
       "      <td>tn</td>\n",
       "      <td>us</td>\n",
       "      <td>sphere</td>\n",
       "      <td>300.0</td>\n",
       "      <td>My father is now 89 my brother 52 the girl wit...</td>\n",
       "      <td>4/27/07</td>\n",
       "      <td>-82.188889</td>\n",
       "      <td>36.595000</td>\n",
       "      <td>1</td>\n",
       "    </tr>\n",
       "    <tr>\n",
       "      <th>7</th>\n",
       "      <td>10/10/1965</td>\n",
       "      <td>norwalk</td>\n",
       "      <td>ct</td>\n",
       "      <td>us</td>\n",
       "      <td>disk</td>\n",
       "      <td>1200.0</td>\n",
       "      <td>A bright orange color changing to reddish colo...</td>\n",
       "      <td>10/2/99</td>\n",
       "      <td>-73.408333</td>\n",
       "      <td>41.117500</td>\n",
       "      <td>1</td>\n",
       "    </tr>\n",
       "  </tbody>\n",
       "</table>\n",
       "</div>"
      ],
      "text/plain": [
       "     datetime        city state country     shape  duration (seconds)  \\\n",
       "0  10/10/1949  san marcos    tx      us  cylinder              2700.0   \n",
       "3  10/10/1956        edna    tx      us    circle                20.0   \n",
       "4  10/10/1960     kaneohe    hi      us     light               900.0   \n",
       "5  10/10/1961     bristol    tn      us    sphere               300.0   \n",
       "7  10/10/1965     norwalk    ct      us      disk              1200.0   \n",
       "\n",
       "                                            comments date posted   longitude  \\\n",
       "0  This event took place in early fall around 194...     4/27/04  -97.941111   \n",
       "3  My older brother and twin sister were leaving ...     1/17/04  -96.645833   \n",
       "4  AS a Marine 1st Lt. flying an FJ4B fighter/att...     1/22/04 -157.803611   \n",
       "5  My father is now 89 my brother 52 the girl wit...     4/27/07  -82.188889   \n",
       "7  A bright orange color changing to reddish colo...     10/2/99  -73.408333   \n",
       "\n",
       "    latitude  sighting  \n",
       "0  29.883056         1  \n",
       "3  28.978333         1  \n",
       "4  21.418056         1  \n",
       "5  36.595000         1  \n",
       "7  41.117500         1  "
      ]
     },
     "execution_count": 13,
     "metadata": {},
     "output_type": "execute_result"
    }
   ],
   "source": [
    "ufo.head()"
   ]
  },
  {
   "cell_type": "code",
   "execution_count": 14,
   "metadata": {},
   "outputs": [],
   "source": [
    "ufo['datetime'] = pd.to_datetime(ufo['datetime'])"
   ]
  },
  {
   "cell_type": "code",
   "execution_count": 15,
   "metadata": {},
   "outputs": [
    {
     "data": {
      "text/html": [
       "<div>\n",
       "<style scoped>\n",
       "    .dataframe tbody tr th:only-of-type {\n",
       "        vertical-align: middle;\n",
       "    }\n",
       "\n",
       "    .dataframe tbody tr th {\n",
       "        vertical-align: top;\n",
       "    }\n",
       "\n",
       "    .dataframe thead th {\n",
       "        text-align: right;\n",
       "    }\n",
       "</style>\n",
       "<table border=\"1\" class=\"dataframe\">\n",
       "  <thead>\n",
       "    <tr style=\"text-align: right;\">\n",
       "      <th></th>\n",
       "      <th>datetime</th>\n",
       "      <th>city</th>\n",
       "      <th>state</th>\n",
       "      <th>country</th>\n",
       "      <th>shape</th>\n",
       "      <th>duration (seconds)</th>\n",
       "      <th>comments</th>\n",
       "      <th>date posted</th>\n",
       "      <th>longitude</th>\n",
       "      <th>latitude</th>\n",
       "      <th>sighting</th>\n",
       "    </tr>\n",
       "  </thead>\n",
       "  <tbody>\n",
       "    <tr>\n",
       "      <th>0</th>\n",
       "      <td>1949-10-10</td>\n",
       "      <td>san marcos</td>\n",
       "      <td>tx</td>\n",
       "      <td>us</td>\n",
       "      <td>cylinder</td>\n",
       "      <td>2700.0</td>\n",
       "      <td>This event took place in early fall around 194...</td>\n",
       "      <td>4/27/04</td>\n",
       "      <td>-97.941111</td>\n",
       "      <td>29.883056</td>\n",
       "      <td>1</td>\n",
       "    </tr>\n",
       "    <tr>\n",
       "      <th>3</th>\n",
       "      <td>1956-10-10</td>\n",
       "      <td>edna</td>\n",
       "      <td>tx</td>\n",
       "      <td>us</td>\n",
       "      <td>circle</td>\n",
       "      <td>20.0</td>\n",
       "      <td>My older brother and twin sister were leaving ...</td>\n",
       "      <td>1/17/04</td>\n",
       "      <td>-96.645833</td>\n",
       "      <td>28.978333</td>\n",
       "      <td>1</td>\n",
       "    </tr>\n",
       "    <tr>\n",
       "      <th>4</th>\n",
       "      <td>1960-10-10</td>\n",
       "      <td>kaneohe</td>\n",
       "      <td>hi</td>\n",
       "      <td>us</td>\n",
       "      <td>light</td>\n",
       "      <td>900.0</td>\n",
       "      <td>AS a Marine 1st Lt. flying an FJ4B fighter/att...</td>\n",
       "      <td>1/22/04</td>\n",
       "      <td>-157.803611</td>\n",
       "      <td>21.418056</td>\n",
       "      <td>1</td>\n",
       "    </tr>\n",
       "    <tr>\n",
       "      <th>5</th>\n",
       "      <td>1961-10-10</td>\n",
       "      <td>bristol</td>\n",
       "      <td>tn</td>\n",
       "      <td>us</td>\n",
       "      <td>sphere</td>\n",
       "      <td>300.0</td>\n",
       "      <td>My father is now 89 my brother 52 the girl wit...</td>\n",
       "      <td>4/27/07</td>\n",
       "      <td>-82.188889</td>\n",
       "      <td>36.595000</td>\n",
       "      <td>1</td>\n",
       "    </tr>\n",
       "    <tr>\n",
       "      <th>7</th>\n",
       "      <td>1965-10-10</td>\n",
       "      <td>norwalk</td>\n",
       "      <td>ct</td>\n",
       "      <td>us</td>\n",
       "      <td>disk</td>\n",
       "      <td>1200.0</td>\n",
       "      <td>A bright orange color changing to reddish colo...</td>\n",
       "      <td>10/2/99</td>\n",
       "      <td>-73.408333</td>\n",
       "      <td>41.117500</td>\n",
       "      <td>1</td>\n",
       "    </tr>\n",
       "  </tbody>\n",
       "</table>\n",
       "</div>"
      ],
      "text/plain": [
       "    datetime        city state country     shape  duration (seconds)  \\\n",
       "0 1949-10-10  san marcos    tx      us  cylinder              2700.0   \n",
       "3 1956-10-10        edna    tx      us    circle                20.0   \n",
       "4 1960-10-10     kaneohe    hi      us     light               900.0   \n",
       "5 1961-10-10     bristol    tn      us    sphere               300.0   \n",
       "7 1965-10-10     norwalk    ct      us      disk              1200.0   \n",
       "\n",
       "                                            comments date posted   longitude  \\\n",
       "0  This event took place in early fall around 194...     4/27/04  -97.941111   \n",
       "3  My older brother and twin sister were leaving ...     1/17/04  -96.645833   \n",
       "4  AS a Marine 1st Lt. flying an FJ4B fighter/att...     1/22/04 -157.803611   \n",
       "5  My father is now 89 my brother 52 the girl wit...     4/27/07  -82.188889   \n",
       "7  A bright orange color changing to reddish colo...     10/2/99  -73.408333   \n",
       "\n",
       "    latitude  sighting  \n",
       "0  29.883056         1  \n",
       "3  28.978333         1  \n",
       "4  21.418056         1  \n",
       "5  36.595000         1  \n",
       "7  41.117500         1  "
      ]
     },
     "execution_count": 15,
     "metadata": {},
     "output_type": "execute_result"
    }
   ],
   "source": [
    "ufo.head()"
   ]
  },
  {
   "cell_type": "code",
   "execution_count": 16,
   "metadata": {},
   "outputs": [
    {
     "name": "stdout",
     "output_type": "stream",
     "text": [
      "<class 'pandas.core.frame.DataFrame'>\n",
      "Int64Index: 66447 entries, 0 to 80331\n",
      "Data columns (total 11 columns):\n",
      " #   Column              Non-Null Count  Dtype         \n",
      "---  ------              --------------  -----         \n",
      " 0   datetime            66447 non-null  datetime64[ns]\n",
      " 1   city                66447 non-null  object        \n",
      " 2   state               66447 non-null  object        \n",
      " 3   country             66447 non-null  object        \n",
      " 4   shape               66447 non-null  object        \n",
      " 5   duration (seconds)  66447 non-null  float64       \n",
      " 6   comments            66447 non-null  object        \n",
      " 7   date posted         66447 non-null  object        \n",
      " 8   longitude           66447 non-null  float64       \n",
      " 9   latitude            66447 non-null  float64       \n",
      " 10  sighting            66447 non-null  int64         \n",
      "dtypes: datetime64[ns](1), float64(3), int64(1), object(6)\n",
      "memory usage: 6.1+ MB\n"
     ]
    }
   ],
   "source": [
    "ufo.info()"
   ]
  },
  {
   "cell_type": "code",
   "execution_count": 17,
   "metadata": {},
   "outputs": [],
   "source": [
    "# convert column to float\n",
    "ufo['latitude'] = ufo['latitude'].astype(float)\n",
    "ufo['duration (seconds)'] = ufo['duration (seconds)'].astype(float)"
   ]
  },
  {
   "cell_type": "code",
   "execution_count": 18,
   "metadata": {},
   "outputs": [],
   "source": [
    "ufo['datetime'] = pd.to_datetime(ufo['datetime'])"
   ]
  },
  {
   "cell_type": "code",
   "execution_count": 19,
   "metadata": {},
   "outputs": [],
   "source": [
    "# Create a new column, year, using just the year from the datetime\n",
    "ufo['year'] = ufo['datetime'].dt.year\n",
    "\n",
    "# Create new column, month, using just the month from the datetime\n",
    "ufo['month'] = ufo['datetime'].dt.month"
   ]
  },
  {
   "cell_type": "code",
   "execution_count": 20,
   "metadata": {},
   "outputs": [
    {
     "name": "stdout",
     "output_type": "stream",
     "text": [
      "<class 'pandas.core.frame.DataFrame'>\n",
      "Int64Index: 66447 entries, 0 to 80331\n",
      "Data columns (total 13 columns):\n",
      " #   Column              Non-Null Count  Dtype         \n",
      "---  ------              --------------  -----         \n",
      " 0   datetime            66447 non-null  datetime64[ns]\n",
      " 1   city                66447 non-null  object        \n",
      " 2   state               66447 non-null  object        \n",
      " 3   country             66447 non-null  object        \n",
      " 4   shape               66447 non-null  object        \n",
      " 5   duration (seconds)  66447 non-null  float64       \n",
      " 6   comments            66447 non-null  object        \n",
      " 7   date posted         66447 non-null  object        \n",
      " 8   longitude           66447 non-null  float64       \n",
      " 9   latitude            66447 non-null  float64       \n",
      " 10  sighting            66447 non-null  int64         \n",
      " 11  year                66447 non-null  int64         \n",
      " 12  month               66447 non-null  int64         \n",
      "dtypes: datetime64[ns](1), float64(3), int64(3), object(6)\n",
      "memory usage: 7.1+ MB\n"
     ]
    }
   ],
   "source": [
    "ufo.info()"
   ]
  },
  {
   "cell_type": "code",
   "execution_count": 21,
   "metadata": {},
   "outputs": [
    {
     "data": {
      "text/html": [
       "<div>\n",
       "<style scoped>\n",
       "    .dataframe tbody tr th:only-of-type {\n",
       "        vertical-align: middle;\n",
       "    }\n",
       "\n",
       "    .dataframe tbody tr th {\n",
       "        vertical-align: top;\n",
       "    }\n",
       "\n",
       "    .dataframe thead th {\n",
       "        text-align: right;\n",
       "    }\n",
       "</style>\n",
       "<table border=\"1\" class=\"dataframe\">\n",
       "  <thead>\n",
       "    <tr style=\"text-align: right;\">\n",
       "      <th></th>\n",
       "      <th>datetime</th>\n",
       "      <th>city</th>\n",
       "      <th>state</th>\n",
       "      <th>country</th>\n",
       "      <th>shape</th>\n",
       "      <th>duration (seconds)</th>\n",
       "      <th>comments</th>\n",
       "      <th>date posted</th>\n",
       "      <th>longitude</th>\n",
       "      <th>latitude</th>\n",
       "      <th>sighting</th>\n",
       "      <th>year</th>\n",
       "      <th>month</th>\n",
       "    </tr>\n",
       "  </thead>\n",
       "  <tbody>\n",
       "    <tr>\n",
       "      <th>0</th>\n",
       "      <td>1949-10-10</td>\n",
       "      <td>san marcos</td>\n",
       "      <td>tx</td>\n",
       "      <td>us</td>\n",
       "      <td>cylinder</td>\n",
       "      <td>2700.0</td>\n",
       "      <td>This event took place in early fall around 194...</td>\n",
       "      <td>4/27/04</td>\n",
       "      <td>-97.941111</td>\n",
       "      <td>29.883056</td>\n",
       "      <td>1</td>\n",
       "      <td>1949</td>\n",
       "      <td>10</td>\n",
       "    </tr>\n",
       "    <tr>\n",
       "      <th>3</th>\n",
       "      <td>1956-10-10</td>\n",
       "      <td>edna</td>\n",
       "      <td>tx</td>\n",
       "      <td>us</td>\n",
       "      <td>circle</td>\n",
       "      <td>20.0</td>\n",
       "      <td>My older brother and twin sister were leaving ...</td>\n",
       "      <td>1/17/04</td>\n",
       "      <td>-96.645833</td>\n",
       "      <td>28.978333</td>\n",
       "      <td>1</td>\n",
       "      <td>1956</td>\n",
       "      <td>10</td>\n",
       "    </tr>\n",
       "    <tr>\n",
       "      <th>4</th>\n",
       "      <td>1960-10-10</td>\n",
       "      <td>kaneohe</td>\n",
       "      <td>hi</td>\n",
       "      <td>us</td>\n",
       "      <td>light</td>\n",
       "      <td>900.0</td>\n",
       "      <td>AS a Marine 1st Lt. flying an FJ4B fighter/att...</td>\n",
       "      <td>1/22/04</td>\n",
       "      <td>-157.803611</td>\n",
       "      <td>21.418056</td>\n",
       "      <td>1</td>\n",
       "      <td>1960</td>\n",
       "      <td>10</td>\n",
       "    </tr>\n",
       "    <tr>\n",
       "      <th>5</th>\n",
       "      <td>1961-10-10</td>\n",
       "      <td>bristol</td>\n",
       "      <td>tn</td>\n",
       "      <td>us</td>\n",
       "      <td>sphere</td>\n",
       "      <td>300.0</td>\n",
       "      <td>My father is now 89 my brother 52 the girl wit...</td>\n",
       "      <td>4/27/07</td>\n",
       "      <td>-82.188889</td>\n",
       "      <td>36.595000</td>\n",
       "      <td>1</td>\n",
       "      <td>1961</td>\n",
       "      <td>10</td>\n",
       "    </tr>\n",
       "    <tr>\n",
       "      <th>7</th>\n",
       "      <td>1965-10-10</td>\n",
       "      <td>norwalk</td>\n",
       "      <td>ct</td>\n",
       "      <td>us</td>\n",
       "      <td>disk</td>\n",
       "      <td>1200.0</td>\n",
       "      <td>A bright orange color changing to reddish colo...</td>\n",
       "      <td>10/2/99</td>\n",
       "      <td>-73.408333</td>\n",
       "      <td>41.117500</td>\n",
       "      <td>1</td>\n",
       "      <td>1965</td>\n",
       "      <td>10</td>\n",
       "    </tr>\n",
       "  </tbody>\n",
       "</table>\n",
       "</div>"
      ],
      "text/plain": [
       "    datetime        city state country     shape  duration (seconds)  \\\n",
       "0 1949-10-10  san marcos    tx      us  cylinder              2700.0   \n",
       "3 1956-10-10        edna    tx      us    circle                20.0   \n",
       "4 1960-10-10     kaneohe    hi      us     light               900.0   \n",
       "5 1961-10-10     bristol    tn      us    sphere               300.0   \n",
       "7 1965-10-10     norwalk    ct      us      disk              1200.0   \n",
       "\n",
       "                                            comments date posted   longitude  \\\n",
       "0  This event took place in early fall around 194...     4/27/04  -97.941111   \n",
       "3  My older brother and twin sister were leaving ...     1/17/04  -96.645833   \n",
       "4  AS a Marine 1st Lt. flying an FJ4B fighter/att...     1/22/04 -157.803611   \n",
       "5  My father is now 89 my brother 52 the girl wit...     4/27/07  -82.188889   \n",
       "7  A bright orange color changing to reddish colo...     10/2/99  -73.408333   \n",
       "\n",
       "    latitude  sighting  year  month  \n",
       "0  29.883056         1  1949     10  \n",
       "3  28.978333         1  1956     10  \n",
       "4  21.418056         1  1960     10  \n",
       "5  36.595000         1  1961     10  \n",
       "7  41.117500         1  1965     10  "
      ]
     },
     "execution_count": 21,
     "metadata": {},
     "output_type": "execute_result"
    }
   ],
   "source": [
    "ufo.head()"
   ]
  },
  {
   "cell_type": "code",
   "execution_count": 22,
   "metadata": {},
   "outputs": [
    {
     "data": {
      "text/plain": [
       "[]"
      ]
     },
     "execution_count": 22,
     "metadata": {},
     "output_type": "execute_result"
    }
   ],
   "source": [
    "# checking for typos\n",
    "typos = []\n",
    "\n",
    "row = -1 \n",
    "for el in ufo['latitude']:\n",
    "    row += 1\n",
    "    if type(el) == float:\n",
    "        continue\n",
    "    for char in el:\n",
    "        if char.isnumeric() or char == \".\":\n",
    "            continue\n",
    "        else:\n",
    "            typos.append((row, el))\n",
    "            break\n",
    "typos"
   ]
  },
  {
   "cell_type": "code",
   "execution_count": 23,
   "metadata": {},
   "outputs": [
    {
     "data": {
      "text/html": [
       "<div>\n",
       "<style scoped>\n",
       "    .dataframe tbody tr th:only-of-type {\n",
       "        vertical-align: middle;\n",
       "    }\n",
       "\n",
       "    .dataframe tbody tr th {\n",
       "        vertical-align: top;\n",
       "    }\n",
       "\n",
       "    .dataframe thead th {\n",
       "        text-align: right;\n",
       "    }\n",
       "</style>\n",
       "<table border=\"1\" class=\"dataframe\">\n",
       "  <thead>\n",
       "    <tr style=\"text-align: right;\">\n",
       "      <th></th>\n",
       "      <th>duration (seconds)</th>\n",
       "      <th>year</th>\n",
       "      <th>month</th>\n",
       "    </tr>\n",
       "  </thead>\n",
       "  <tbody>\n",
       "    <tr>\n",
       "      <th>count</th>\n",
       "      <td>6.644700e+04</td>\n",
       "      <td>66447.000000</td>\n",
       "      <td>66447.000000</td>\n",
       "    </tr>\n",
       "    <tr>\n",
       "      <th>mean</th>\n",
       "      <td>6.578909e+03</td>\n",
       "      <td>2004.195163</td>\n",
       "      <td>6.869219</td>\n",
       "    </tr>\n",
       "    <tr>\n",
       "      <th>std</th>\n",
       "      <td>5.111561e+05</td>\n",
       "      <td>10.309720</td>\n",
       "      <td>3.227485</td>\n",
       "    </tr>\n",
       "    <tr>\n",
       "      <th>min</th>\n",
       "      <td>1.000000e-02</td>\n",
       "      <td>1931.000000</td>\n",
       "      <td>1.000000</td>\n",
       "    </tr>\n",
       "    <tr>\n",
       "      <th>25%</th>\n",
       "      <td>3.000000e+01</td>\n",
       "      <td>2001.000000</td>\n",
       "      <td>4.000000</td>\n",
       "    </tr>\n",
       "    <tr>\n",
       "      <th>50%</th>\n",
       "      <td>1.800000e+02</td>\n",
       "      <td>2007.000000</td>\n",
       "      <td>7.000000</td>\n",
       "    </tr>\n",
       "    <tr>\n",
       "      <th>75%</th>\n",
       "      <td>6.000000e+02</td>\n",
       "      <td>2011.000000</td>\n",
       "      <td>9.000000</td>\n",
       "    </tr>\n",
       "    <tr>\n",
       "      <th>max</th>\n",
       "      <td>8.280000e+07</td>\n",
       "      <td>2029.000000</td>\n",
       "      <td>12.000000</td>\n",
       "    </tr>\n",
       "  </tbody>\n",
       "</table>\n",
       "</div>"
      ],
      "text/plain": [
       "       duration (seconds)          year         month\n",
       "count        6.644700e+04  66447.000000  66447.000000\n",
       "mean         6.578909e+03   2004.195163      6.869219\n",
       "std          5.111561e+05     10.309720      3.227485\n",
       "min          1.000000e-02   1931.000000      1.000000\n",
       "25%          3.000000e+01   2001.000000      4.000000\n",
       "50%          1.800000e+02   2007.000000      7.000000\n",
       "75%          6.000000e+02   2011.000000      9.000000\n",
       "max          8.280000e+07   2029.000000     12.000000"
      ]
     },
     "execution_count": 23,
     "metadata": {},
     "output_type": "execute_result"
    }
   ],
   "source": [
    "ufo[['duration (seconds)', 'year', 'month']].describe()"
   ]
  },
  {
   "cell_type": "code",
   "execution_count": 24,
   "metadata": {},
   "outputs": [
    {
     "name": "stdout",
     "output_type": "stream",
     "text": [
      "Number of States: 67\n",
      "Number of Countries: 4\n",
      "Number of Shapes: 28\n"
     ]
    }
   ],
   "source": [
    "# How Many Unique States, Countries, and Shape Are Included In The Data\n",
    "\n",
    "print('Number of States:', len(ufo['state'].unique()))\n",
    "print('Number of Countries:', len(ufo['country'].unique()))\n",
    "print('Number of Shapes:', len(ufo['shape'].unique()))"
   ]
  },
  {
   "cell_type": "code",
   "execution_count": 25,
   "metadata": {},
   "outputs": [
    {
     "data": {
      "text/plain": [
       "country\n",
       "us    63489\n",
       "ca     2937\n",
       "gb       11\n",
       "au       10\n",
       "dtype: int64"
      ]
     },
     "execution_count": 25,
     "metadata": {},
     "output_type": "execute_result"
    }
   ],
   "source": [
    "ufo.value_counts('country')"
   ]
  },
  {
   "cell_type": "code",
   "execution_count": 26,
   "metadata": {},
   "outputs": [
    {
     "data": {
      "text/plain": [
       "state\n",
       "ca    8674\n",
       "fl    3751\n",
       "wa    3703\n",
       "tx    3392\n",
       "ny    2912\n",
       "il    2445\n",
       "az    2361\n",
       "pa    2318\n",
       "oh    2249\n",
       "mi    1780\n",
       "dtype: int64"
      ]
     },
     "execution_count": 26,
     "metadata": {},
     "output_type": "execute_result"
    }
   ],
   "source": [
    "# Top 10 US States Report The Most Sightings\n",
    "ufo[ufo['country'] == 'us'].value_counts('state', ascending=False).nlargest(10)"
   ]
  },
  {
   "cell_type": "code",
   "execution_count": 27,
   "metadata": {},
   "outputs": [
    {
     "data": {
      "text/plain": [
       "state\n",
       "ca    376\n",
       "az    172\n",
       "wa    167\n",
       "tx    115\n",
       "fl     96\n",
       "ny     90\n",
       "or     84\n",
       "il     72\n",
       "oh     69\n",
       "pa     59\n",
       "dtype: int64"
      ]
     },
     "execution_count": 27,
     "metadata": {},
     "output_type": "execute_result"
    }
   ],
   "source": [
    "ufo[(ufo['country'] == 'us') & (ufo['year'] == 2000)].value_counts('state', ascending=False).nlargest(10)"
   ]
  },
  {
   "cell_type": "code",
   "execution_count": 28,
   "metadata": {},
   "outputs": [
    {
     "data": {
      "text/plain": [
       "shape\n",
       "light       14123\n",
       "triangle     6811\n",
       "circle       6400\n",
       "fireball     5358\n",
       "unknown      4771\n",
       "dtype: int64"
      ]
     },
     "execution_count": 28,
     "metadata": {},
     "output_type": "execute_result"
    }
   ],
   "source": [
    "# Top 5 Most Common Shapes\n",
    "ufo.value_counts('shape', ascending=False).nlargest(5)"
   ]
  },
  {
   "cell_type": "code",
   "execution_count": 29,
   "metadata": {},
   "outputs": [
    {
     "data": {
      "text/plain": [
       "shape\n",
       "light       659\n",
       "circle      287\n",
       "triangle    269\n",
       "other       239\n",
       "fireball    216\n",
       "dtype: int64"
      ]
     },
     "execution_count": 29,
     "metadata": {},
     "output_type": "execute_result"
    }
   ],
   "source": [
    "ufo[ufo['country'] != 'us'].value_counts('shape', ascending=False).nlargest(5)"
   ]
  },
  {
   "cell_type": "code",
   "execution_count": 30,
   "metadata": {},
   "outputs": [
    {
     "data": {
      "text/html": [
       "<div>\n",
       "<style scoped>\n",
       "    .dataframe tbody tr th:only-of-type {\n",
       "        vertical-align: middle;\n",
       "    }\n",
       "\n",
       "    .dataframe tbody tr th {\n",
       "        vertical-align: top;\n",
       "    }\n",
       "\n",
       "    .dataframe thead th {\n",
       "        text-align: right;\n",
       "    }\n",
       "</style>\n",
       "<table border=\"1\" class=\"dataframe\">\n",
       "  <thead>\n",
       "    <tr style=\"text-align: right;\">\n",
       "      <th></th>\n",
       "      <th>datetime</th>\n",
       "      <th>city</th>\n",
       "      <th>state</th>\n",
       "      <th>country</th>\n",
       "      <th>shape</th>\n",
       "      <th>duration (seconds)</th>\n",
       "      <th>comments</th>\n",
       "      <th>date posted</th>\n",
       "      <th>longitude</th>\n",
       "      <th>latitude</th>\n",
       "      <th>sighting</th>\n",
       "      <th>year</th>\n",
       "      <th>month</th>\n",
       "    </tr>\n",
       "  </thead>\n",
       "  <tbody>\n",
       "    <tr>\n",
       "      <th>3</th>\n",
       "      <td>1956-10-10</td>\n",
       "      <td>edna</td>\n",
       "      <td>tx</td>\n",
       "      <td>us</td>\n",
       "      <td>circle</td>\n",
       "      <td>20.0</td>\n",
       "      <td>My older brother and twin sister were leaving ...</td>\n",
       "      <td>1/17/04</td>\n",
       "      <td>-96.645833</td>\n",
       "      <td>28.978333</td>\n",
       "      <td>1</td>\n",
       "      <td>1956</td>\n",
       "      <td>10</td>\n",
       "    </tr>\n",
       "    <tr>\n",
       "      <th>4</th>\n",
       "      <td>1960-10-10</td>\n",
       "      <td>kaneohe</td>\n",
       "      <td>hi</td>\n",
       "      <td>us</td>\n",
       "      <td>light</td>\n",
       "      <td>900.0</td>\n",
       "      <td>AS a Marine 1st Lt. flying an FJ4B fighter/att...</td>\n",
       "      <td>1/22/04</td>\n",
       "      <td>-157.803611</td>\n",
       "      <td>21.418056</td>\n",
       "      <td>1</td>\n",
       "      <td>1960</td>\n",
       "      <td>10</td>\n",
       "    </tr>\n",
       "    <tr>\n",
       "      <th>5</th>\n",
       "      <td>1961-10-10</td>\n",
       "      <td>bristol</td>\n",
       "      <td>tn</td>\n",
       "      <td>us</td>\n",
       "      <td>sphere</td>\n",
       "      <td>300.0</td>\n",
       "      <td>My father is now 89 my brother 52 the girl wit...</td>\n",
       "      <td>4/27/07</td>\n",
       "      <td>-82.188889</td>\n",
       "      <td>36.595000</td>\n",
       "      <td>1</td>\n",
       "      <td>1961</td>\n",
       "      <td>10</td>\n",
       "    </tr>\n",
       "    <tr>\n",
       "      <th>10</th>\n",
       "      <td>1968-10-10</td>\n",
       "      <td>hawthorne</td>\n",
       "      <td>ca</td>\n",
       "      <td>us</td>\n",
       "      <td>circle</td>\n",
       "      <td>300.0</td>\n",
       "      <td>ROUND &amp;#44 ORANGE &amp;#44 WITH WHAT I WOULD SAY W...</td>\n",
       "      <td>10/31/03</td>\n",
       "      <td>-118.351667</td>\n",
       "      <td>33.916389</td>\n",
       "      <td>1</td>\n",
       "      <td>1968</td>\n",
       "      <td>10</td>\n",
       "    </tr>\n",
       "    <tr>\n",
       "      <th>15</th>\n",
       "      <td>1972-10-10</td>\n",
       "      <td>harlan county</td>\n",
       "      <td>ky</td>\n",
       "      <td>us</td>\n",
       "      <td>circle</td>\n",
       "      <td>1200.0</td>\n",
       "      <td>On october 10&amp;#44 1972 myself&amp;#44my 5yrs.daugh...</td>\n",
       "      <td>9/15/05</td>\n",
       "      <td>-83.321944</td>\n",
       "      <td>36.843056</td>\n",
       "      <td>1</td>\n",
       "      <td>1972</td>\n",
       "      <td>10</td>\n",
       "    </tr>\n",
       "  </tbody>\n",
       "</table>\n",
       "</div>"
      ],
      "text/plain": [
       "     datetime           city state country   shape  duration (seconds)  \\\n",
       "3  1956-10-10           edna    tx      us  circle                20.0   \n",
       "4  1960-10-10        kaneohe    hi      us   light               900.0   \n",
       "5  1961-10-10        bristol    tn      us  sphere               300.0   \n",
       "10 1968-10-10      hawthorne    ca      us  circle               300.0   \n",
       "15 1972-10-10  harlan county    ky      us  circle              1200.0   \n",
       "\n",
       "                                             comments date posted   longitude  \\\n",
       "3   My older brother and twin sister were leaving ...     1/17/04  -96.645833   \n",
       "4   AS a Marine 1st Lt. flying an FJ4B fighter/att...     1/22/04 -157.803611   \n",
       "5   My father is now 89 my brother 52 the girl wit...     4/27/07  -82.188889   \n",
       "10  ROUND &#44 ORANGE &#44 WITH WHAT I WOULD SAY W...    10/31/03 -118.351667   \n",
       "15  On october 10&#44 1972 myself&#44my 5yrs.daugh...     9/15/05  -83.321944   \n",
       "\n",
       "     latitude  sighting  year  month  \n",
       "3   28.978333         1  1956     10  \n",
       "4   21.418056         1  1960     10  \n",
       "5   36.595000         1  1961     10  \n",
       "10  33.916389         1  1968     10  \n",
       "15  36.843056         1  1972     10  "
      ]
     },
     "execution_count": 30,
     "metadata": {},
     "output_type": "execute_result"
    }
   ],
   "source": [
    "# Creating Dataframe For The Top 5 Shapes\n",
    "\n",
    "top_5_shapes = ['light', 'circle', 'triangle', 'other', 'sphere']\n",
    "\n",
    "top_5_ufo = ufo[ufo['shape'].isin(top_5_shapes)]\n",
    "\n",
    "top_5_ufo.head()"
   ]
  },
  {
   "cell_type": "code",
   "execution_count": 31,
   "metadata": {},
   "outputs": [
    {
     "name": "stdout",
     "output_type": "stream",
     "text": [
      "The average sighting lasts for 6578.91 seconds, or 110 minutes.\n",
      "The median sighting duration is 180.0 seconds, or 3 minutes.\n"
     ]
    }
   ],
   "source": [
    "# aggregations\n",
    "\n",
    "avg_sighting = round(ufo['duration (seconds)'].mean(), 2)\n",
    "median_sighting = round(ufo['duration (seconds)'].median(), 2)\n",
    "\n",
    "# print out the times\n",
    "print('The average sighting lasts for {0} seconds, or {1} minutes.'.format(avg_sighting, round(avg_sighting/60),2))\n",
    "print('The median sighting duration is {0} seconds, or {1} minutes.'.format(median_sighting, round(median_sighting/60),2))"
   ]
  },
  {
   "cell_type": "code",
   "execution_count": 32,
   "metadata": {},
   "outputs": [
    {
     "data": {
      "text/plain": [
       "Text(0.5, 0.98, 'Average Sighting Duration By Year')"
      ]
     },
     "execution_count": 32,
     "metadata": {},
     "output_type": "execute_result"
    },
    {
     "data": {
      "image/png": "[encoded data removed]",
      "text/plain": [
       "<Figure size 2520x360 with 1 Axes>"
      ]
     },
     "metadata": {
      "needs_background": "light"
     },
     "output_type": "display_data"
    }
   ],
   "source": [
    "plt.figure(figsize=(35,5))\n",
    "\n",
    "mean_ufo = ufo.groupby('year').agg('mean').reset_index()\n",
    "\n",
    "plt.bar(mean_ufo['year'], mean_ufo['duration (seconds)'])\n",
    "plt.suptitle('Average Sighting Duration By Year', fontsize=35)"
   ]
  },
  {
   "cell_type": "code",
   "execution_count": 33,
   "metadata": {},
   "outputs": [
    {
     "data": {
      "text/plain": [
       "Text(0, 0.5, 'Sightings')"
      ]
     },
     "execution_count": 33,
     "metadata": {},
     "output_type": "execute_result"
    },
    {
     "data": {
      "image/png": "[encoded data removed]",
      "text/plain": [
       "<Figure size 2520x504 with 1 Axes>"
      ]
     },
     "metadata": {
      "needs_background": "light"
     },
     "output_type": "display_data"
    }
   ],
   "source": [
    "#set figure size \n",
    "plt.figure(figsize=(35,7))\n",
    "\n",
    "# group data by year and month, to determine the number of sightings in each month\n",
    "year_month_ufo = ufo.groupby(['year','month']).agg('sum').reset_index()\n",
    "\n",
    "# group data by month to figure out the average number of sightings in each month \n",
    "month_ufo = year_month_ufo.groupby('month').agg('mean').reset_index()\n",
    "\n",
    "# Replace the month number with month name\n",
    "month_ufo['month'] = month_ufo['month'].replace({1:'Jan', 2:'Feb', 3:'Mar', 4:'Apr', 5:'May', 6:'Jun', 7:'Jul', 8:'Aug', 9:'Sep', 10:'Oct', 11:'Nov', 12:'Dec'})\n",
    "\n",
    "# Create plot\n",
    "plots = sns.barplot(data = month_ufo, x = month_ufo['month'], y=month_ufo['sighting'])\n",
    "\n",
    "# Iterrating over the bars one-by-one to annoate each bar with the number of average sightings\n",
    "for bar in plots.patches:\n",
    "    plots.annotate(format(bar.get_height(), '.2f'),\n",
    "                   (bar.get_x() + bar.get_width() / 2,\n",
    "                    bar.get_height()), ha='center', va='center',\n",
    "                   size=12, xytext=(0, 8),\n",
    "                   textcoords='offset points')\n",
    "    \n",
    "# Modify titles and labels\n",
    "plt.suptitle('Average Number of Sighting By Month', fontsize=35)\n",
    "plt.xlabel(\"Month\", size=14)\n",
    "plt.ylabel(\"Sightings\", size=14)"
   ]
  },
  {
   "cell_type": "code",
   "execution_count": 34,
   "metadata": {},
   "outputs": [
    {
     "data": {
      "text/plain": [
       "Text(0.5, 0.98, 'UFO Sightings Over Type by Country')"
      ]
     },
     "execution_count": 34,
     "metadata": {},
     "output_type": "execute_result"
    },
    {
     "data": {
      "image/png": "[encoded data removed]",
      "text/plain": [
       "<Figure size 2520x360 with 1 Axes>"
      ]
     },
     "metadata": {
      "needs_background": "light"
     },
     "output_type": "display_data"
    }
   ],
   "source": [
    "# Count of sightings by year and country \n",
    "time_series = ufo[['year', 'country']].value_counts().reset_index()\n",
    "\n",
    "# name columns\n",
    "time_series.columns = ['year', 'country', 'sightings']\n",
    "\n",
    "# figure size\n",
    "plt.figure(figsize=(35,5))\n",
    "\n",
    "#plot\n",
    "sns.lineplot(data = time_series, x= 'year', y='sightings', hue='country')\n",
    "plt.suptitle(\"UFO Sightings Over Type by Country\", fontsize=35)"
   ]
  },
  {
   "cell_type": "code",
   "execution_count": 35,
   "metadata": {},
   "outputs": [
    {
     "data": {
      "text/plain": [
       "Text(0.5, 0.98, 'UFO Sightings Over Type by Top 5 Shapes')"
      ]
     },
     "execution_count": 35,
     "metadata": {},
     "output_type": "execute_result"
    },
    {
     "data": {
      "image/png": "[encoded data removed]",
      "text/plain": [
       "<Figure size 2520x360 with 1 Axes>"
      ]
     },
     "metadata": {
      "needs_background": "light"
     },
     "output_type": "display_data"
    }
   ],
   "source": [
    "# get a count of sightings by year and country and save this as a dataframe\n",
    "shape_time_series = top_5_ufo[['year', 'shape']].value_counts().reset_index()\n",
    "\n",
    "# Name the columns\n",
    "shape_time_series.columns = ['year', 'shape', 'sightings']\n",
    "\n",
    "#set figure size \n",
    "plt.figure(figsize=(35,5))\n",
    "\n",
    "# create plot\n",
    "sns.lineplot(data = shape_time_series, x= 'year', y='sightings', hue='shape')\n",
    "plt.suptitle(\"UFO Sightings Over Type by Top 5 Shapes\", fontsize=35)"
   ]
  },
  {
   "cell_type": "code",
   "execution_count": 36,
   "metadata": {},
   "outputs": [],
   "source": [
    "ufo.to_csv(r'/Users/gregorygreen/scrubbed2.csv')"
   ]
  }
 ],
 "metadata": {
  "kernelspec": {
   "display_name": "Python 3.8.9 64-bit",
   "language": "python",
   "name": "python3"
  },
  "language_info": {
   "codemirror_mode": {
    "name": "ipython",
    "version": 3
   },
   "file_extension": ".py",
   "mimetype": "text/x-python",
   "name": "python",
   "nbconvert_exporter": "python",
   "pygments_lexer": "ipython3",
   "version": "3.8.9"
  },
  "orig_nbformat": 4,
  "vscode": {
   "interpreter": {
    "hash": "31f2aee4e71d21fbe5cf8b01ff0e069b9275f58929596ceb00d14d90e3e16cd6"
   }
  }
 },
 "nbformat": 4,
 "nbformat_minor": 2
}
